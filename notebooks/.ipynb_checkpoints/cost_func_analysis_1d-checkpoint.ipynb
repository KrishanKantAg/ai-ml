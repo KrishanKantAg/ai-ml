{
 "cells": [
  {
   "cell_type": "code",
   "execution_count": null,
   "id": "2e63c127",
   "metadata": {},
   "outputs": [],
   "source": [
    "import sys\n",
    "import os\n",
    "\n",
    "# Get the absolute path to the project root\n",
    "src_path = os.path.join(os.path.abspath(os.path.join(os.getcwd(), '..')), 'src')\n",
    "sys.path.append(src_path)\n",
    "\n",
    "# Now import functions fro the src folders as well\n",
    "from lab_utils_uni import plt_intuition\n"
   ]
  }
 ],
 "metadata": {
  "language_info": {
   "name": "python"
  }
 },
 "nbformat": 4,
 "nbformat_minor": 5
}
